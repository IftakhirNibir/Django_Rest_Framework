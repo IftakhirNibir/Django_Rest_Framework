{
 "cells": [
  {
   "cell_type": "markdown",
   "id": "f78f48ff",
   "metadata": {},
   "source": [
    "### Necessary libraries "
   ]
  },
  {
   "cell_type": "code",
   "execution_count": 1,
   "id": "0d41f872",
   "metadata": {},
   "outputs": [],
   "source": [
    "import requests\n",
    "import json"
   ]
  },
  {
   "cell_type": "markdown",
   "id": "c8764ca2",
   "metadata": {},
   "source": [
    "### GET Request"
   ]
  },
  {
   "cell_type": "code",
   "execution_count": 2,
   "id": "526f210d",
   "metadata": {},
   "outputs": [],
   "source": [
    "get_response = requests.get('http://127.0.0.1:8000/drinks.json')"
   ]
  },
  {
   "cell_type": "code",
   "execution_count": 3,
   "id": "2e471e83",
   "metadata": {},
   "outputs": [
    {
     "data": {
      "text/plain": [
       "<Response [200]>"
      ]
     },
     "execution_count": 3,
     "metadata": {},
     "output_type": "execute_result"
    }
   ],
   "source": [
    "get_response"
   ]
  },
  {
   "cell_type": "code",
   "execution_count": 4,
   "id": "015a1683",
   "metadata": {},
   "outputs": [
    {
     "data": {
      "text/plain": [
       "[{'id': 1, 'name': 'Test Soda', 'description': 'Very Test'},\n",
       " {'id': 2, 'name': 'Orange Soda', 'description': 'Very Orangey'}]"
      ]
     },
     "execution_count": 4,
     "metadata": {},
     "output_type": "execute_result"
    }
   ],
   "source": [
    "get_response.json()"
   ]
  },
  {
   "cell_type": "code",
   "execution_count": 6,
   "id": "a3ec4606",
   "metadata": {},
   "outputs": [
    {
     "data": {
      "text/plain": [
       "{'id': 1, 'name': 'Test Soda', 'description': 'Very Test'}"
      ]
     },
     "execution_count": 6,
     "metadata": {},
     "output_type": "execute_result"
    }
   ],
   "source": [
    "get_response.json()[0]"
   ]
  },
  {
   "cell_type": "code",
   "execution_count": 7,
   "id": "aeb6fc7c",
   "metadata": {},
   "outputs": [
    {
     "name": "stdout",
     "output_type": "stream",
     "text": [
      "Test Soda\n",
      "Orange Soda\n"
     ]
    }
   ],
   "source": [
    "for i in get_response.json():\n",
    "    print(i['name'])"
   ]
  },
  {
   "cell_type": "markdown",
   "id": "c2bca0d1",
   "metadata": {},
   "source": [
    "### POST request"
   ]
  },
  {
   "cell_type": "code",
   "execution_count": 8,
   "id": "6e1a033b",
   "metadata": {},
   "outputs": [],
   "source": [
    "# Data for the POST request\n",
    "data = {\n",
    "    'name': 'Test data',\n",
    "    'description': 'Testing'\n",
    "}"
   ]
  },
  {
   "cell_type": "code",
   "execution_count": 9,
   "id": "4cafc94e",
   "metadata": {},
   "outputs": [],
   "source": [
    "post_response = requests.post('http://127.0.0.1:8000/drinks.json', json=data)"
   ]
  },
  {
   "cell_type": "code",
   "execution_count": 10,
   "id": "5cf44de0",
   "metadata": {},
   "outputs": [
    {
     "data": {
      "text/plain": [
       "<Response [201]>"
      ]
     },
     "execution_count": 10,
     "metadata": {},
     "output_type": "execute_result"
    }
   ],
   "source": [
    "post_response"
   ]
  },
  {
   "cell_type": "code",
   "execution_count": 11,
   "id": "5d01e1d3",
   "metadata": {},
   "outputs": [
    {
     "data": {
      "text/plain": [
       "{'id': 7, 'name': 'Test data', 'description': 'Testing'}"
      ]
     },
     "execution_count": 11,
     "metadata": {},
     "output_type": "execute_result"
    }
   ],
   "source": [
    "post_response.json()"
   ]
  },
  {
   "cell_type": "code",
   "execution_count": 12,
   "id": "ba8f0f92",
   "metadata": {},
   "outputs": [
    {
     "data": {
      "text/plain": [
       "[{'id': 1, 'name': 'Test Soda', 'description': 'Very Test'},\n",
       " {'id': 2, 'name': 'Orange Soda', 'description': 'Very Orangey'},\n",
       " {'id': 7, 'name': 'Test data', 'description': 'Testing'}]"
      ]
     },
     "execution_count": 12,
     "metadata": {},
     "output_type": "execute_result"
    }
   ],
   "source": [
    "get_response = requests.get('http://127.0.0.1:8000/drinks.json')\n",
    "get_response.json()"
   ]
  },
  {
   "cell_type": "markdown",
   "id": "00f1c5c3",
   "metadata": {},
   "source": [
    "### PUT Request"
   ]
  },
  {
   "cell_type": "code",
   "execution_count": 13,
   "id": "14cb8cb2",
   "metadata": {},
   "outputs": [],
   "source": [
    "data = {\n",
    "    'name': 'Test data for PUT request',\n",
    "    'description': 'Testing PUT'\n",
    "}"
   ]
  },
  {
   "cell_type": "code",
   "execution_count": 14,
   "id": "62b5aace",
   "metadata": {},
   "outputs": [],
   "source": [
    "put_response = requests.put(f'http://127.0.0.1:8000/drinks/{7}.json', json=data)"
   ]
  },
  {
   "cell_type": "code",
   "execution_count": 15,
   "id": "2277b58f",
   "metadata": {},
   "outputs": [
    {
     "data": {
      "text/plain": [
       "<Response [200]>"
      ]
     },
     "execution_count": 15,
     "metadata": {},
     "output_type": "execute_result"
    }
   ],
   "source": [
    "put_response"
   ]
  },
  {
   "cell_type": "code",
   "execution_count": 16,
   "id": "99b9b913",
   "metadata": {},
   "outputs": [
    {
     "data": {
      "text/plain": [
       "{'id': 7, 'name': 'Test data for PUT request', 'description': 'Testing PUT'}"
      ]
     },
     "execution_count": 16,
     "metadata": {},
     "output_type": "execute_result"
    }
   ],
   "source": [
    "put_response.json()"
   ]
  },
  {
   "cell_type": "code",
   "execution_count": 17,
   "id": "5ac497d3",
   "metadata": {},
   "outputs": [
    {
     "data": {
      "text/plain": [
       "[{'id': 1, 'name': 'Test Soda', 'description': 'Very Test'},\n",
       " {'id': 2, 'name': 'Orange Soda', 'description': 'Very Orangey'},\n",
       " {'id': 7, 'name': 'Test data for PUT request', 'description': 'Testing PUT'}]"
      ]
     },
     "execution_count": 17,
     "metadata": {},
     "output_type": "execute_result"
    }
   ],
   "source": [
    "get_response = requests.get('http://127.0.0.1:8000/drinks.json')\n",
    "get_response.json()"
   ]
  },
  {
   "cell_type": "markdown",
   "id": "8ca9ca9f",
   "metadata": {},
   "source": [
    "### Delete Request"
   ]
  },
  {
   "cell_type": "code",
   "execution_count": 18,
   "id": "8968c8ba",
   "metadata": {},
   "outputs": [],
   "source": [
    "delete_response = requests.delete(f'http://127.0.0.1:8000/drinks/{7}.json')"
   ]
  },
  {
   "cell_type": "code",
   "execution_count": 19,
   "id": "df4302f7",
   "metadata": {},
   "outputs": [
    {
     "data": {
      "text/plain": [
       "<Response [204]>"
      ]
     },
     "execution_count": 19,
     "metadata": {},
     "output_type": "execute_result"
    }
   ],
   "source": [
    "delete_response"
   ]
  },
  {
   "cell_type": "code",
   "execution_count": 20,
   "id": "0013eb06",
   "metadata": {},
   "outputs": [
    {
     "data": {
      "text/plain": [
       "[{'id': 1, 'name': 'Test Soda', 'description': 'Very Test'},\n",
       " {'id': 2, 'name': 'Orange Soda', 'description': 'Very Orangey'}]"
      ]
     },
     "execution_count": 20,
     "metadata": {},
     "output_type": "execute_result"
    }
   ],
   "source": [
    "get_response = requests.get('http://127.0.0.1:8000/drinks.json')\n",
    "get_response.json()"
   ]
  },
  {
   "cell_type": "markdown",
   "id": "18f0a74c",
   "metadata": {},
   "source": [
    "In these examples, /drinks, /drinks/{id}, and so on are the endpoints. They provide a way for clients to perform various actions on the resources managed by the API. The term \"endpoint\" is essentially a shorthand way of referring to a specific URL or URI that exposes a particular functionality or resource of a web service."
   ]
  }
 ],
 "metadata": {
  "kernelspec": {
   "display_name": "Python 3 (ipykernel)",
   "language": "python",
   "name": "python3"
  },
  "language_info": {
   "codemirror_mode": {
    "name": "ipython",
    "version": 3
   },
   "file_extension": ".py",
   "mimetype": "text/x-python",
   "name": "python",
   "nbconvert_exporter": "python",
   "pygments_lexer": "ipython3",
   "version": "3.9.6"
  }
 },
 "nbformat": 4,
 "nbformat_minor": 5
}
